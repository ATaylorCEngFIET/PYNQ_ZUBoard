{
 "cells": [
  {
   "cell_type": "code",
   "execution_count": 6,
   "id": "f2ac2ee3",
   "metadata": {},
   "outputs": [],
   "source": [
    "import time \n",
    "import numpy as np\n",
    "from pynq import pl\n",
    "from pynq import Overlay\n",
    "from pynq.lib.video import *\n",
    "import cv2\n",
    "import matplotlib.pyplot as plt"
   ]
  },
  {
   "cell_type": "code",
   "execution_count": 7,
   "id": "07ad064f",
   "metadata": {},
   "outputs": [],
   "source": [
    "ol = Overlay('/home/xilinx/jupyter_notebooks/tpg_overlay/tpg.bit')"
   ]
  },
  {
   "cell_type": "code",
   "execution_count": 8,
   "id": "045d2737",
   "metadata": {},
   "outputs": [],
   "source": [
    "ol?"
   ]
  },
  {
   "cell_type": "code",
   "execution_count": 9,
   "id": "e5850e28",
   "metadata": {},
   "outputs": [],
   "source": [
    "pixel_in = ol.pixel_pack_2_0\n",
    "pixel_in.bits_per_pixel = 24\n",
    "\n",
    "colourspace_in = ol.color_convert_2_0\n",
    "rgb2bgr = [0.0, 1.0, 0.0,\n",
    "           1.0, 0.0, 0.0,\n",
    "           0.0, 0.0, 1.0,\n",
    "           0.0, 0.0, 0.0]\n",
    "\n",
    "colourspace_in.colorspace = rgb2bgr"
   ]
  },
  {
   "cell_type": "code",
   "execution_count": 10,
   "id": "3472143b",
   "metadata": {},
   "outputs": [],
   "source": [
    "cam_vdma = ol.axi_vdma_0\n",
    "lines = 512\n",
    "framemode = VideoMode(640, lines, 24)\n",
    "cam_vdma.readchannel.mode = framemode\n",
    "cam_vdma.readchannel.start()"
   ]
  },
  {
   "cell_type": "code",
   "execution_count": 11,
   "id": "8d72a999",
   "metadata": {},
   "outputs": [],
   "source": [
    "tpg = ol.v_tpg_0\n",
    "tpg.write(0x10,512)\n",
    "tpg.write(0x18,640)\n",
    "tpg.write(0x40,0)\n",
    "tpg.write(0x30,0)\n",
    "tpg.write(0x20,0xB)\n",
    "tpg.write(0x00,0x81)"
   ]
  },
  {
   "cell_type": "code",
   "execution_count": 12,
   "id": "a8e5bf5a",
   "metadata": {},
   "outputs": [
    {
     "data": {
      "image/png": "[encoded data removed]",
      "text/plain": [
       "<Figure size 432x288 with 1 Axes>"
      ]
     },
     "metadata": {
      "needs_background": "light"
     },
     "output_type": "display_data"
    }
   ],
   "source": [
    "frame_camera = cam_vdma.readchannel.readframe()\n",
    "frame_color=cv2.cvtColor(frame_camera,cv2.COLOR_BGR2RGB)\n",
    "pixels = np.array(frame_color)\n",
    "plt.imshow(pixels)\n",
    "plt.show()"
   ]
  },
  {
   "cell_type": "code",
   "execution_count": null,
   "id": "b6af0724",
   "metadata": {},
   "outputs": [],
   "source": []
  }
 ],
 "metadata": {
  "kernelspec": {
   "display_name": "Python 3 (ipykernel)",
   "language": "python",
   "name": "python3"
  },
  "language_info": {
   "codemirror_mode": {
    "name": "ipython",
    "version": 3
   },
   "file_extension": ".py",
   "mimetype": "text/x-python",
   "name": "python",
   "nbconvert_exporter": "python",
   "pygments_lexer": "ipython3",
   "version": "3.10.4"
  }
 },
 "nbformat": 4,
 "nbformat_minor": 5
}
